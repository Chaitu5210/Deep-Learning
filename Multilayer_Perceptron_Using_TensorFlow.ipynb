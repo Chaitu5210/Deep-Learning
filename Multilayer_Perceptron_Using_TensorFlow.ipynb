{
  "nbformat": 4,
  "nbformat_minor": 0,
  "metadata": {
    "colab": {
      "provenance": []
    },
    "kernelspec": {
      "name": "python3",
      "display_name": "Python 3"
    },
    "language_info": {
      "name": "python"
    }
  },
  "cells": [
    {
      "cell_type": "code",
      "execution_count": 4,
      "metadata": {
        "id": "lCyCq-ykalPv"
      },
      "outputs": [],
      "source": [
        "import tensorflow as tf\n",
        "from tensorflow import keras\n",
        "from sklearn.datasets import make_classification\n",
        "from sklearn.model_selection import train_test_split\n",
        "from sklearn.preprocessing import StandardScaler\n",
        "import numpy as np\n",
        "import matplotlib.pyplot as plt\n",
        "import netron"
      ]
    },
    {
      "cell_type": "code",
      "source": [
        "pip install netron"
      ],
      "metadata": {
        "colab": {
          "base_uri": "https://localhost:8080/"
        },
        "id": "kV43-K8na8aI",
        "outputId": "0c201301-5be4-4ab2-80ea-d38b20c06add"
      },
      "execution_count": 3,
      "outputs": [
        {
          "output_type": "stream",
          "name": "stdout",
          "text": [
            "Collecting netron\n",
            "  Downloading netron-7.8.1-py3-none-any.whl.metadata (1.4 kB)\n",
            "Downloading netron-7.8.1-py3-none-any.whl (1.7 MB)\n",
            "\u001b[?25l   \u001b[90m━━━━━━━━━━━━━━━━━━━━━━━━━━━━━━━━━━━━━━━━\u001b[0m \u001b[32m0.0/1.7 MB\u001b[0m \u001b[31m?\u001b[0m eta \u001b[36m-:--:--\u001b[0m\r\u001b[2K   \u001b[91m━━━━━━━━━━━━━\u001b[0m\u001b[91m╸\u001b[0m\u001b[90m━━━━━━━━━━━━━━━━━━━━━━━━━━\u001b[0m \u001b[32m0.6/1.7 MB\u001b[0m \u001b[31m17.9 MB/s\u001b[0m eta \u001b[36m0:00:01\u001b[0m\r\u001b[2K   \u001b[91m━━━━━━━━━━━━━━━━━━━━━━━━━━━━━━━━━━━━━━━\u001b[0m\u001b[91m╸\u001b[0m \u001b[32m1.7/1.7 MB\u001b[0m \u001b[31m35.5 MB/s\u001b[0m eta \u001b[36m0:00:01\u001b[0m\r\u001b[2K   \u001b[90m━━━━━━━━━━━━━━━━━━━━━━━━━━━━━━━━━━━━━━━━\u001b[0m \u001b[32m1.7/1.7 MB\u001b[0m \u001b[31m23.7 MB/s\u001b[0m eta \u001b[36m0:00:00\u001b[0m\n",
            "\u001b[?25hInstalling collected packages: netron\n",
            "Successfully installed netron-7.8.1\n"
          ]
        }
      ]
    },
    {
      "cell_type": "code",
      "source": [
        "X, y = make_classification(n_samples=1000, n_features=20, n_classes=2, random_state=42)"
      ],
      "metadata": {
        "id": "0Z_e9C41a0sR"
      },
      "execution_count": 5,
      "outputs": []
    },
    {
      "cell_type": "code",
      "source": [
        "X_train, X_test, y_train, y_test = train_test_split(X, y, test_size=0.2, random_state=42)"
      ],
      "metadata": {
        "id": "_Bs6YiILa4SX"
      },
      "execution_count": 6,
      "outputs": []
    },
    {
      "cell_type": "code",
      "source": [
        "scaler = StandardScaler()\n",
        "X_train = scaler.fit_transform(X_train)\n",
        "X_test = scaler.transform(X_test)"
      ],
      "metadata": {
        "id": "sggX_Ubea7Gs"
      },
      "execution_count": 7,
      "outputs": []
    },
    {
      "cell_type": "code",
      "source": [
        "# Defining the model\n",
        "model = keras.Sequential([\n",
        "    keras.layers.Input(shape=(20,)),\n",
        "    keras.layers.Dense(100, activation='relu'),\n",
        "    keras.layers.Dense(50, activation='relu'),\n",
        "    keras.layers.Dense(1, activation='sigmoid')\n",
        "])"
      ],
      "metadata": {
        "id": "Kd1V5CkLbRzr"
      },
      "execution_count": 8,
      "outputs": []
    },
    {
      "cell_type": "code",
      "source": [
        "model.compile(optimizer='adam', loss='binary_crossentropy', metrics=['accuracy'])"
      ],
      "metadata": {
        "id": "s15Qd895bUZ0"
      },
      "execution_count": 9,
      "outputs": []
    },
    {
      "cell_type": "code",
      "source": [
        "# Train the model\n",
        "history = model.fit(X_train, y_train, epochs=50, batch_size=32, validation_split=0.2, verbose=1)"
      ],
      "metadata": {
        "colab": {
          "base_uri": "https://localhost:8080/"
        },
        "id": "g3df4vWgbXUN",
        "outputId": "9489e6e5-08d4-496e-9a35-01ee368d2202"
      },
      "execution_count": 10,
      "outputs": [
        {
          "output_type": "stream",
          "name": "stdout",
          "text": [
            "Epoch 1/50\n",
            "20/20 [==============================] - 2s 26ms/step - loss: 0.6072 - accuracy: 0.7016 - val_loss: 0.4952 - val_accuracy: 0.8562\n",
            "Epoch 2/50\n",
            "20/20 [==============================] - 0s 8ms/step - loss: 0.4683 - accuracy: 0.8328 - val_loss: 0.3878 - val_accuracy: 0.8750\n",
            "Epoch 3/50\n",
            "20/20 [==============================] - 0s 8ms/step - loss: 0.3870 - accuracy: 0.8531 - val_loss: 0.3213 - val_accuracy: 0.8938\n",
            "Epoch 4/50\n",
            "20/20 [==============================] - 0s 12ms/step - loss: 0.3450 - accuracy: 0.8641 - val_loss: 0.2905 - val_accuracy: 0.8875\n",
            "Epoch 5/50\n",
            "20/20 [==============================] - 0s 9ms/step - loss: 0.3163 - accuracy: 0.8672 - val_loss: 0.2777 - val_accuracy: 0.8750\n",
            "Epoch 6/50\n",
            "20/20 [==============================] - 0s 9ms/step - loss: 0.2982 - accuracy: 0.8859 - val_loss: 0.2604 - val_accuracy: 0.8875\n",
            "Epoch 7/50\n",
            "20/20 [==============================] - 0s 9ms/step - loss: 0.2838 - accuracy: 0.8781 - val_loss: 0.2588 - val_accuracy: 0.8687\n",
            "Epoch 8/50\n",
            "20/20 [==============================] - 0s 11ms/step - loss: 0.2727 - accuracy: 0.8969 - val_loss: 0.2526 - val_accuracy: 0.9000\n",
            "Epoch 9/50\n",
            "20/20 [==============================] - 0s 10ms/step - loss: 0.2624 - accuracy: 0.8875 - val_loss: 0.2514 - val_accuracy: 0.8813\n",
            "Epoch 10/50\n",
            "20/20 [==============================] - 0s 8ms/step - loss: 0.2503 - accuracy: 0.9047 - val_loss: 0.2478 - val_accuracy: 0.9000\n",
            "Epoch 11/50\n",
            "20/20 [==============================] - 0s 6ms/step - loss: 0.2361 - accuracy: 0.9016 - val_loss: 0.2469 - val_accuracy: 0.8813\n",
            "Epoch 12/50\n",
            "20/20 [==============================] - 0s 5ms/step - loss: 0.2295 - accuracy: 0.9109 - val_loss: 0.2497 - val_accuracy: 0.8875\n",
            "Epoch 13/50\n",
            "20/20 [==============================] - 0s 5ms/step - loss: 0.2178 - accuracy: 0.9172 - val_loss: 0.2460 - val_accuracy: 0.8875\n",
            "Epoch 14/50\n",
            "20/20 [==============================] - 0s 6ms/step - loss: 0.2098 - accuracy: 0.9219 - val_loss: 0.2509 - val_accuracy: 0.8875\n",
            "Epoch 15/50\n",
            "20/20 [==============================] - 0s 6ms/step - loss: 0.2001 - accuracy: 0.9266 - val_loss: 0.2456 - val_accuracy: 0.8875\n",
            "Epoch 16/50\n",
            "20/20 [==============================] - 0s 5ms/step - loss: 0.1906 - accuracy: 0.9344 - val_loss: 0.2448 - val_accuracy: 0.8875\n",
            "Epoch 17/50\n",
            "20/20 [==============================] - 0s 5ms/step - loss: 0.1822 - accuracy: 0.9375 - val_loss: 0.2537 - val_accuracy: 0.8625\n",
            "Epoch 18/50\n",
            "20/20 [==============================] - 0s 5ms/step - loss: 0.1725 - accuracy: 0.9438 - val_loss: 0.2541 - val_accuracy: 0.8625\n",
            "Epoch 19/50\n",
            "20/20 [==============================] - 0s 5ms/step - loss: 0.1645 - accuracy: 0.9453 - val_loss: 0.2518 - val_accuracy: 0.8750\n",
            "Epoch 20/50\n",
            "20/20 [==============================] - 0s 5ms/step - loss: 0.1608 - accuracy: 0.9484 - val_loss: 0.2519 - val_accuracy: 0.9000\n",
            "Epoch 21/50\n",
            "20/20 [==============================] - 0s 4ms/step - loss: 0.1487 - accuracy: 0.9594 - val_loss: 0.2629 - val_accuracy: 0.8750\n",
            "Epoch 22/50\n",
            "20/20 [==============================] - 0s 5ms/step - loss: 0.1417 - accuracy: 0.9563 - val_loss: 0.2560 - val_accuracy: 0.8562\n",
            "Epoch 23/50\n",
            "20/20 [==============================] - 0s 6ms/step - loss: 0.1363 - accuracy: 0.9594 - val_loss: 0.2646 - val_accuracy: 0.8750\n",
            "Epoch 24/50\n",
            "20/20 [==============================] - 0s 6ms/step - loss: 0.1262 - accuracy: 0.9641 - val_loss: 0.2718 - val_accuracy: 0.8750\n",
            "Epoch 25/50\n",
            "20/20 [==============================] - 0s 5ms/step - loss: 0.1182 - accuracy: 0.9641 - val_loss: 0.2632 - val_accuracy: 0.8750\n",
            "Epoch 26/50\n",
            "20/20 [==============================] - 0s 5ms/step - loss: 0.1130 - accuracy: 0.9719 - val_loss: 0.2735 - val_accuracy: 0.8625\n",
            "Epoch 27/50\n",
            "20/20 [==============================] - 0s 3ms/step - loss: 0.1058 - accuracy: 0.9719 - val_loss: 0.2708 - val_accuracy: 0.8813\n",
            "Epoch 28/50\n",
            "20/20 [==============================] - 0s 3ms/step - loss: 0.0995 - accuracy: 0.9750 - val_loss: 0.2781 - val_accuracy: 0.8750\n",
            "Epoch 29/50\n",
            "20/20 [==============================] - 0s 3ms/step - loss: 0.0930 - accuracy: 0.9719 - val_loss: 0.2776 - val_accuracy: 0.8562\n",
            "Epoch 30/50\n",
            "20/20 [==============================] - 0s 3ms/step - loss: 0.0870 - accuracy: 0.9734 - val_loss: 0.2911 - val_accuracy: 0.8562\n",
            "Epoch 31/50\n",
            "20/20 [==============================] - 0s 3ms/step - loss: 0.0811 - accuracy: 0.9766 - val_loss: 0.2872 - val_accuracy: 0.8687\n",
            "Epoch 32/50\n",
            "20/20 [==============================] - 0s 3ms/step - loss: 0.0787 - accuracy: 0.9781 - val_loss: 0.2983 - val_accuracy: 0.8500\n",
            "Epoch 33/50\n",
            "20/20 [==============================] - 0s 3ms/step - loss: 0.0716 - accuracy: 0.9859 - val_loss: 0.2897 - val_accuracy: 0.8562\n",
            "Epoch 34/50\n",
            "20/20 [==============================] - 0s 3ms/step - loss: 0.0686 - accuracy: 0.9859 - val_loss: 0.2920 - val_accuracy: 0.8687\n",
            "Epoch 35/50\n",
            "20/20 [==============================] - 0s 4ms/step - loss: 0.0627 - accuracy: 0.9859 - val_loss: 0.3103 - val_accuracy: 0.8438\n",
            "Epoch 36/50\n",
            "20/20 [==============================] - 0s 4ms/step - loss: 0.0586 - accuracy: 0.9922 - val_loss: 0.3086 - val_accuracy: 0.8750\n",
            "Epoch 37/50\n",
            "20/20 [==============================] - 0s 4ms/step - loss: 0.0548 - accuracy: 0.9937 - val_loss: 0.3148 - val_accuracy: 0.8500\n",
            "Epoch 38/50\n",
            "20/20 [==============================] - 0s 3ms/step - loss: 0.0518 - accuracy: 0.9953 - val_loss: 0.3116 - val_accuracy: 0.8562\n",
            "Epoch 39/50\n",
            "20/20 [==============================] - 0s 4ms/step - loss: 0.0458 - accuracy: 0.9969 - val_loss: 0.3268 - val_accuracy: 0.8625\n",
            "Epoch 40/50\n",
            "20/20 [==============================] - 0s 3ms/step - loss: 0.0443 - accuracy: 0.9969 - val_loss: 0.3165 - val_accuracy: 0.8562\n",
            "Epoch 41/50\n",
            "20/20 [==============================] - 0s 4ms/step - loss: 0.0415 - accuracy: 0.9984 - val_loss: 0.3230 - val_accuracy: 0.8500\n",
            "Epoch 42/50\n",
            "20/20 [==============================] - 0s 4ms/step - loss: 0.0397 - accuracy: 0.9969 - val_loss: 0.3391 - val_accuracy: 0.8562\n",
            "Epoch 43/50\n",
            "20/20 [==============================] - 0s 4ms/step - loss: 0.0349 - accuracy: 1.0000 - val_loss: 0.3321 - val_accuracy: 0.8438\n",
            "Epoch 44/50\n",
            "20/20 [==============================] - 0s 3ms/step - loss: 0.0330 - accuracy: 1.0000 - val_loss: 0.3336 - val_accuracy: 0.8500\n",
            "Epoch 45/50\n",
            "20/20 [==============================] - 0s 4ms/step - loss: 0.0307 - accuracy: 1.0000 - val_loss: 0.3511 - val_accuracy: 0.8562\n",
            "Epoch 46/50\n",
            "20/20 [==============================] - 0s 4ms/step - loss: 0.0292 - accuracy: 0.9984 - val_loss: 0.3414 - val_accuracy: 0.8500\n",
            "Epoch 47/50\n",
            "20/20 [==============================] - 0s 4ms/step - loss: 0.0271 - accuracy: 1.0000 - val_loss: 0.3451 - val_accuracy: 0.8500\n",
            "Epoch 48/50\n",
            "20/20 [==============================] - 0s 4ms/step - loss: 0.0253 - accuracy: 1.0000 - val_loss: 0.3655 - val_accuracy: 0.8562\n",
            "Epoch 49/50\n",
            "20/20 [==============================] - 0s 3ms/step - loss: 0.0224 - accuracy: 1.0000 - val_loss: 0.3628 - val_accuracy: 0.8562\n",
            "Epoch 50/50\n",
            "20/20 [==============================] - 0s 4ms/step - loss: 0.0217 - accuracy: 1.0000 - val_loss: 0.3788 - val_accuracy: 0.8500\n"
          ]
        }
      ]
    },
    {
      "cell_type": "code",
      "source": [
        "# Evaluate the model\n",
        "test_loss, test_accuracy = model.evaluate(X_test, y_test, verbose=0)\n",
        "print(f\"Test accuracy: {test_accuracy:.4f}\")"
      ],
      "metadata": {
        "colab": {
          "base_uri": "https://localhost:8080/"
        },
        "id": "M87_dXX4baYQ",
        "outputId": "082f6048-ead2-40d3-e2ec-8ec0c73ed922"
      },
      "execution_count": 11,
      "outputs": [
        {
          "output_type": "stream",
          "name": "stdout",
          "text": [
            "Test accuracy: 0.8250\n"
          ]
        }
      ]
    },
    {
      "cell_type": "code",
      "source": [
        "# Make predictions\n",
        "predictions = model.predict(X_test)\n",
        "predictions = (predictions > 0.5).astype(int).flatten()"
      ],
      "metadata": {
        "colab": {
          "base_uri": "https://localhost:8080/"
        },
        "id": "wMlupGuabfcR",
        "outputId": "09bb4636-ec93-4c3c-fcb8-bcedc8f011f3"
      },
      "execution_count": 12,
      "outputs": [
        {
          "output_type": "stream",
          "name": "stdout",
          "text": [
            "7/7 [==============================] - 0s 3ms/step\n"
          ]
        }
      ]
    },
    {
      "cell_type": "code",
      "source": [
        "model.summary()"
      ],
      "metadata": {
        "colab": {
          "base_uri": "https://localhost:8080/"
        },
        "id": "05ptpTwjbhvC",
        "outputId": "5f576042-b569-442a-910e-f88750d3e1d5"
      },
      "execution_count": 13,
      "outputs": [
        {
          "output_type": "stream",
          "name": "stdout",
          "text": [
            "Model: \"sequential\"\n",
            "_________________________________________________________________\n",
            " Layer (type)                Output Shape              Param #   \n",
            "=================================================================\n",
            " dense (Dense)               (None, 100)               2100      \n",
            "                                                                 \n",
            " dense_1 (Dense)             (None, 50)                5050      \n",
            "                                                                 \n",
            " dense_2 (Dense)             (None, 1)                 51        \n",
            "                                                                 \n",
            "=================================================================\n",
            "Total params: 7201 (28.13 KB)\n",
            "Trainable params: 7201 (28.13 KB)\n",
            "Non-trainable params: 0 (0.00 Byte)\n",
            "_________________________________________________________________\n"
          ]
        }
      ]
    },
    {
      "cell_type": "code",
      "source": [
        "# Save your model\n",
        "model.save('my_model.h5')"
      ],
      "metadata": {
        "colab": {
          "base_uri": "https://localhost:8080/"
        },
        "id": "jQ0F_p2hbkHY",
        "outputId": "654591c1-4b56-4df0-f9fd-9476d45dfc72"
      },
      "execution_count": 14,
      "outputs": [
        {
          "output_type": "stream",
          "name": "stderr",
          "text": [
            "/usr/local/lib/python3.10/dist-packages/keras/src/engine/training.py:3103: UserWarning: You are saving your model as an HDF5 file via `model.save()`. This file format is considered legacy. We recommend using instead the native Keras format, e.g. `model.save('my_model.keras')`.\n",
            "  saving_api.save_model(\n"
          ]
        }
      ]
    },
    {
      "cell_type": "code",
      "source": [
        "# Open the model in netron\n",
        "netron.start('my_model.h5')"
      ],
      "metadata": {
        "colab": {
          "base_uri": "https://localhost:8080/"
        },
        "id": "IzQr0aeXboE_",
        "outputId": "f2b78c42-c2af-4f67-cb21-471d6975f9ec"
      },
      "execution_count": 15,
      "outputs": [
        {
          "output_type": "stream",
          "name": "stdout",
          "text": [
            "Serving 'my_model.h5' at http://localhost:8081\n"
          ]
        },
        {
          "output_type": "execute_result",
          "data": {
            "text/plain": [
              "('localhost', 8081)"
            ]
          },
          "metadata": {},
          "execution_count": 15
        }
      ]
    },
    {
      "cell_type": "code",
      "source": [
        "# Plot training history\n",
        "plt.figure(figsize=(12, 4))"
      ],
      "metadata": {
        "colab": {
          "base_uri": "https://localhost:8080/",
          "height": 53
        },
        "id": "266BQOUrbqZf",
        "outputId": "c347f4be-43e7-4437-e8fd-b80c6564879a"
      },
      "execution_count": 16,
      "outputs": [
        {
          "output_type": "execute_result",
          "data": {
            "text/plain": [
              "<Figure size 1200x400 with 0 Axes>"
            ]
          },
          "metadata": {},
          "execution_count": 16
        },
        {
          "output_type": "display_data",
          "data": {
            "text/plain": [
              "<Figure size 1200x400 with 0 Axes>"
            ]
          },
          "metadata": {}
        }
      ]
    },
    {
      "cell_type": "code",
      "source": [
        "plt.subplot(1, 2, 1)\n",
        "plt.plot(history.history['accuracy'], label='Training Accuracy')\n",
        "plt.plot(history.history['val_accuracy'], label='Validation Accuracy')\n",
        "plt.title('Model Accuracy')\n",
        "plt.xlabel('Epoch')\n",
        "plt.ylabel('Accuracy')\n",
        "plt.legend()"
      ],
      "metadata": {
        "colab": {
          "base_uri": "https://localhost:8080/",
          "height": 490
        },
        "id": "NfD-kbgObxdG",
        "outputId": "3237fffe-b5c7-4011-ca17-f864f2069e53"
      },
      "execution_count": 17,
      "outputs": [
        {
          "output_type": "execute_result",
          "data": {
            "text/plain": [
              "<matplotlib.legend.Legend at 0x7ded83f23c10>"
            ]
          },
          "metadata": {},
          "execution_count": 17
        },
        {
          "output_type": "display_data",
          "data": {
            "text/plain": [
              "<Figure size 640x480 with 1 Axes>"
            ],
            "image/png": "[encoded data removed]"
          },
          "metadata": {}
        }
      ]
    },
    {
      "cell_type": "code",
      "source": [
        "plt.subplot(1, 2, 2)\n",
        "plt.plot(history.history['loss'], label='Training Loss')\n",
        "plt.plot(history.history['val_loss'], label='Validation Loss')\n",
        "plt.title('Model Loss')\n",
        "plt.xlabel('Epoch')\n",
        "plt.ylabel('Loss')\n",
        "plt.legend()"
      ],
      "metadata": {
        "colab": {
          "base_uri": "https://localhost:8080/",
          "height": 490
        },
        "id": "WkFn3TxMbzj-",
        "outputId": "6d6a31fc-7d19-40ff-e550-d54944d508be"
      },
      "execution_count": 18,
      "outputs": [
        {
          "output_type": "execute_result",
          "data": {
            "text/plain": [
              "<matplotlib.legend.Legend at 0x7ded825c1cf0>"
            ]
          },
          "metadata": {},
          "execution_count": 18
        },
        {
          "output_type": "display_data",
          "data": {
            "text/plain": [
              "<Figure size 640x480 with 1 Axes>"
            ],
            "image/png": "[encoded data removed]"
          },
          "metadata": {}
        }
      ]
    },
    {
      "cell_type": "code",
      "source": [
        "plt.tight_layout()\n",
        "plt.show()"
      ],
      "metadata": {
        "colab": {
          "base_uri": "https://localhost:8080/",
          "height": 35
        },
        "id": "GlhqcRhEb4dd",
        "outputId": "89931111-b2ea-4a4d-8b7a-0e52a26d1f1f"
      },
      "execution_count": 19,
      "outputs": [
        {
          "output_type": "display_data",
          "data": {
            "text/plain": [
              "<Figure size 640x480 with 0 Axes>"
            ]
          },
          "metadata": {}
        }
      ]
    }
  ]
}